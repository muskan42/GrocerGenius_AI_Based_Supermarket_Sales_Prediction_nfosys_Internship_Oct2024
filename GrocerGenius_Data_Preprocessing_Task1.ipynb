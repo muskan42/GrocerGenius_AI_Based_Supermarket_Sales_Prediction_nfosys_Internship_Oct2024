{
 "cells": [
  {
   "cell_type": "code",
   "execution_count": 23,
   "id": "6a3911ec-5e36-4c2a-8d9d-5d4a1a5cf11f",
   "metadata": {},
   "outputs": [
    {
     "name": "stdout",
     "output_type": "stream",
     "text": [
      "  Item_Identifier  Item_Weight Item_Fat_Content  Item_Visibility  \\\n",
      "0           FDA15         9.30          Low Fat         0.016047   \n",
      "1           DRC01         5.92          Regular         0.019278   \n",
      "2           FDN15        17.50          Low Fat         0.016760   \n",
      "3           FDX07        19.20          Regular         0.000000   \n",
      "4           NCD19         8.93          Low Fat         0.000000   \n",
      "\n",
      "               Item_Type  Item_MRP Outlet_Identifier  \\\n",
      "0                  Dairy  249.8092            OUT049   \n",
      "1            Soft Drinks   48.2692            OUT018   \n",
      "2                   Meat  141.6180            OUT049   \n",
      "3  Fruits and Vegetables  182.0950            OUT010   \n",
      "4              Household   53.8614            OUT013   \n",
      "\n",
      "   Outlet_Establishment_Year Outlet_Size Outlet_Location_Type  \\\n",
      "0                       1999      Medium               Tier 1   \n",
      "1                       2009      Medium               Tier 3   \n",
      "2                       1999      Medium               Tier 1   \n",
      "3                       1998         NaN               Tier 3   \n",
      "4                       1987        High               Tier 3   \n",
      "\n",
      "         Outlet_Type  Item_Outlet_Sales  \n",
      "0  Supermarket Type1          3735.1380  \n",
      "1  Supermarket Type2           443.4228  \n",
      "2  Supermarket Type1          2097.2700  \n",
      "3      Grocery Store           732.3800  \n",
      "4  Supermarket Type1           994.7052  \n"
     ]
    }
   ],
   "source": [
    "## 1. Imputation of Missing Data\n",
    "\n",
    "import pandas as pd\n",
    "from sklearn.impute import KNNImputer\n",
    "\n",
    "# Load your dataset\n",
    "df = pd.read_csv(r'C:\\Users\\muska\\Downloads\\train.csv')\n",
    "\n",
    "# Mean Imputation for 'Item_Weight'\n",
    "df['Item_Weight'] = df['Item_Weight'].fillna(df['Item_Weight'].mean())\n",
    "\n",
    "# KNN Imputation for 'Item_Weight' and 'Item_Outlet_Sales'\n",
    "imputer = KNNImputer(n_neighbors=2)\n",
    "df[['Item_Weight', 'Item_Outlet_Sales']] = imputer.fit_transform(df[['Item_Weight', 'Item_Outlet_Sales']])\n",
    "\n",
    "print(df.head())"
   ]
  },
  {
   "cell_type": "code",
   "execution_count": 21,
   "id": "2be03a9e-4e4d-46b0-8c96-44bf1b1e2a78",
   "metadata": {},
   "outputs": [
    {
     "name": "stdout",
     "output_type": "stream",
     "text": [
      "  Item_Identifier  Item_Weight  Item_Visibility              Item_Type  \\\n",
      "0           FDA15     0.282525         0.016047                  Dairy   \n",
      "1           DRC01     0.081274         0.019278            Soft Drinks   \n",
      "2           FDN15     0.770765         0.016760                   Meat   \n",
      "3           FDX07     0.871986         0.000000  Fruits and Vegetables   \n",
      "4           NCD19     0.260494         0.000000              Household   \n",
      "\n",
      "   Item_MRP Outlet_Identifier  Outlet_Establishment_Year Outlet_Size  \\\n",
      "0  0.927507            OUT049                       1999      Medium   \n",
      "1  0.072068            OUT018                       2009      Medium   \n",
      "2  0.468288            OUT049                       1999      Medium   \n",
      "3  0.640093            OUT010                       1998         NaN   \n",
      "4  0.095805            OUT013                       1987        High   \n",
      "\n",
      "  Outlet_Location_Type        Outlet_Type  Item_Outlet_Sales  salary_log  \\\n",
      "0               Tier 1  Supermarket Type1          3735.1380    8.225808   \n",
      "1               Tier 3  Supermarket Type2           443.4228    6.096776   \n",
      "2               Tier 1  Supermarket Type1          2097.2700    7.648868   \n",
      "3               Tier 3      Grocery Store           732.3800    6.597664   \n",
      "4               Tier 3  Supermarket Type1           994.7052    6.903451   \n",
      "\n",
      "   Item_Fat_Content_LF  Item_Fat_Content_Low Fat  Item_Fat_Content_Regular  \\\n",
      "0                  0.0                       1.0                       0.0   \n",
      "1                  0.0                       0.0                       1.0   \n",
      "2                  0.0                       1.0                       0.0   \n",
      "3                  0.0                       0.0                       1.0   \n",
      "4                  0.0                       1.0                       0.0   \n",
      "\n",
      "   Item_Fat_Content_low fat  Item_Fat_Content_reg  \n",
      "0                       0.0                   0.0  \n",
      "1                       0.0                   0.0  \n",
      "2                       0.0                   0.0  \n",
      "3                       0.0                   0.0  \n",
      "4                       0.0                   0.0  \n"
     ]
    }
   ],
   "source": [
    "## 2. Categorical Variable Encoding\n",
    "\n",
    "import pandas as pd\n",
    "from sklearn.preprocessing import OneHotEncoder\n",
    "\n",
    "# Create a OneHotEncoder instance\n",
    "encoder = OneHotEncoder(sparse_output=False)  # Use sparse_output instead of sparse\n",
    "\n",
    "# Encode the categorical variable 'Item_Fat_Content'\n",
    "encoded = encoder.fit_transform(df[['Item_Fat_Content']])\n",
    "\n",
    "# Create a DataFrame with the encoded features\n",
    "encoded_df = pd.DataFrame(encoded, columns=encoder.get_feature_names_out(['Item_Fat_Content']))\n",
    "\n",
    "# Concatenate the original DataFrame (without the encoded column) with the new encoded DataFrame\n",
    "df_encoded = pd.concat([df.drop('Item_Fat_Content', axis=1).reset_index(drop=True), encoded_df], axis=1)\n",
    "\n",
    "print(df_encoded.head())"
   ]
  },
  {
   "cell_type": "code",
   "execution_count": 16,
   "id": "28706078-e39b-49a1-91b5-0e274948229e",
   "metadata": {},
   "outputs": [
    {
     "name": "stdout",
     "output_type": "stream",
     "text": [
      "   Item_Outlet_Sales  Item_MRP  sales_per_mrp\n",
      "0          3735.1380  249.8092      14.951963\n",
      "1           443.4228   48.2692       9.186454\n",
      "2          2097.2700  141.6180      14.809346\n",
      "3           732.3800  182.0950       4.021967\n",
      "4           994.7052   53.8614      18.467868\n"
     ]
    }
   ],
   "source": [
    "## 3. Feature Derivation\n",
    "\n",
    "import pandas as pd\n",
    "\n",
    "# Deriving a new feature: sales_per_mrp\n",
    "# Ensure we handle divisions by zero if 'Item_MRP' is zero\n",
    "df['sales_per_mrp'] = df['Item_Outlet_Sales'] / df['Item_MRP'].replace(0, 1)  # Replace 0 with 1 to avoid division by zero\n",
    "\n",
    "# Display the original columns and the new feature\n",
    "print(df[['Item_Outlet_Sales', 'Item_MRP', 'sales_per_mrp']].head())\n"
   ]
  },
  {
   "cell_type": "code",
   "execution_count": 19,
   "id": "cc06b9df-1d64-42e5-9656-edd3cf78735f",
   "metadata": {},
   "outputs": [
    {
     "name": "stdout",
     "output_type": "stream",
     "text": [
      "   Item_Outlet_Sales\n",
      "0          3735.1380\n",
      "1           443.4228\n",
      "2          2097.2700\n",
      "3           732.3800\n",
      "4           994.7052\n"
     ]
    }
   ],
   "source": [
    "## 4. Outlier Treatment\n",
    "\n",
    "import pandas as pd\n",
    "\n",
    "# Calculate Q1 (25th percentile) and Q3 (75th percentile) for Item_Outlet_Sales\n",
    "Q1 = df['Item_Outlet_Sales'].quantile(0.25)\n",
    "Q3 = df['Item_Outlet_Sales'].quantile(0.75)\n",
    "IQR = Q3 - Q1\n",
    "\n",
    "# Filtering out outliers\n",
    "df_outliers_removed = df[~((df['Item_Outlet_Sales'] < (Q1 - 1.5 * IQR)) | \n",
    "                            (df['Item_Outlet_Sales'] > (Q3 + 1.5 * IQR)))]\n",
    "\n",
    "# Display the dataframe without outliers\n",
    "print(df_outliers_removed[['Item_Outlet_Sales']].head())"
   ]
  },
  {
   "cell_type": "code",
   "execution_count": 18,
   "id": "8b5415fa-4afc-43bc-b2f9-a1781e5009a6",
   "metadata": {},
   "outputs": [
    {
     "name": "stdout",
     "output_type": "stream",
     "text": [
      "   Item_Weight  Item_MRP\n",
      "0     0.282525  0.927507\n",
      "1     0.081274  0.072068\n",
      "2     0.770765  0.468288\n",
      "3     0.871986  0.640093\n",
      "4     0.260494  0.095805\n"
     ]
    }
   ],
   "source": [
    "## 5. Feature Scaling\n",
    "\n",
    "import pandas as pd\n",
    "from sklearn.preprocessing import MinMaxScaler\n",
    "\n",
    "# Initialize MinMaxScaler\n",
    "scaler = MinMaxScaler()\n",
    "\n",
    "# Apply MinMaxScaler to relevant numerical columns\n",
    "df[['Item_Weight', 'Item_MRP']] = scaler.fit_transform(df[['Item_Weight', 'Item_MRP']])\n",
    "\n",
    "# Display the scaled dataframe\n",
    "print(df[['Item_Weight', 'Item_MRP']].head())"
   ]
  },
  {
   "cell_type": "code",
   "execution_count": 20,
   "id": "f06820e0-5682-4289-91d4-ccb9881d155e",
   "metadata": {},
   "outputs": [
    {
     "name": "stdout",
     "output_type": "stream",
     "text": [
      "   Item_Outlet_Sales  salary_log\n",
      "0          3735.1380    8.225808\n",
      "1           443.4228    6.096776\n",
      "2          2097.2700    7.648868\n",
      "3           732.3800    6.597664\n",
      "4           994.7052    6.903451\n"
     ]
    }
   ],
   "source": [
    "## 6. Target Variable Transformation\n",
    "\n",
    "import pandas as pd\n",
    "import numpy as np\n",
    "\n",
    "df['salary_log'] = np.log1p(df['Item_Outlet_Sales'])  \n",
    "\n",
    "# Display the original and log-transformed salary values\n",
    "print(df[['Item_Outlet_Sales', 'salary_log']].head())  # Displaying first few rows"
   ]
  },
  {
   "cell_type": "code",
   "execution_count": 24,
   "id": "bbf0c7c8-69c6-48c5-b00e-510eed3e1836",
   "metadata": {
    "scrolled": true
   },
   "outputs": [
    {
     "name": "stdout",
     "output_type": "stream",
     "text": [
      "<class 'pandas.core.frame.DataFrame'>\n",
      "RangeIndex: 8523 entries, 0 to 8522\n",
      "Data columns (total 12 columns):\n",
      " #   Column                     Non-Null Count  Dtype  \n",
      "---  ------                     --------------  -----  \n",
      " 0   Item_Identifier            8523 non-null   object \n",
      " 1   Item_Weight                8523 non-null   float64\n",
      " 2   Item_Fat_Content           8523 non-null   object \n",
      " 3   Item_Visibility            8523 non-null   float64\n",
      " 4   Item_Type                  8523 non-null   object \n",
      " 5   Item_MRP                   8523 non-null   float64\n",
      " 6   Outlet_Identifier          8523 non-null   object \n",
      " 7   Outlet_Establishment_Year  8523 non-null   int64  \n",
      " 8   Outlet_Size                6113 non-null   object \n",
      " 9   Outlet_Location_Type       8523 non-null   object \n",
      " 10  Outlet_Type                8523 non-null   object \n",
      " 11  Item_Outlet_Sales          8523 non-null   float64\n",
      "dtypes: float64(4), int64(1), object(7)\n",
      "memory usage: 799.2+ KB\n",
      "None\n"
     ]
    }
   ],
   "source": [
    "print(df.info())"
   ]
  },
  {
   "cell_type": "code",
   "execution_count": 55,
   "id": "8e966917-c8bc-49ff-a9ea-77ec5df4f14b",
   "metadata": {},
   "outputs": [
    {
     "name": "stdout",
     "output_type": "stream",
     "text": [
      "<class 'pandas.core.frame.DataFrame'>\n",
      "RangeIndex: 8523 entries, 0 to 8522\n",
      "Columns: 1598 entries, Item_Weight to Outlet_Identifier_9\n",
      "dtypes: bool(1593), float64(4), int64(1)\n",
      "memory usage: 13.3 MB\n",
      "None\n"
     ]
    }
   ],
   "source": [
    "print(df.info())"
   ]
  },
  {
   "cell_type": "code",
   "execution_count": null,
   "id": "9e83fd4c-fc78-4a2b-8bc9-c6989b926f1d",
   "metadata": {},
   "outputs": [],
   "source": []
  }
 ],
 "metadata": {
  "kernelspec": {
   "display_name": "Python 3 (ipykernel)",
   "language": "python",
   "name": "python3"
  },
  "language_info": {
   "codemirror_mode": {
    "name": "ipython",
    "version": 3
   },
   "file_extension": ".py",
   "mimetype": "text/x-python",
   "name": "python",
   "nbconvert_exporter": "python",
   "pygments_lexer": "ipython3",
   "version": "3.12.1"
  }
 },
 "nbformat": 4,
 "nbformat_minor": 5
}
